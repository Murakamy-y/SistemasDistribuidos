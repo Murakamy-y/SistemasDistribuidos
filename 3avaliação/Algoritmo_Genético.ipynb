{
  "nbformat": 4,
  "nbformat_minor": 0,
  "metadata": {
    "colab": {
      "provenance": []
    },
    "kernelspec": {
      "name": "python3",
      "display_name": "Python 3"
    },
    "language_info": {
      "name": "python"
    }
  },
  "cells": [
    {
      "cell_type": "markdown",
      "source": [
        "# Precisamos de um problema.\n",
        "## https://en.wikipedia.org/wiki/Test_functions_for_optimization\n",
        "###Booth function\n",
        "f(x,y) = (x+2y-7)^2 + (2x+y-5)^2"
      ],
      "metadata": {
        "id": "5-9fEjlFVQWL"
      }
    },
    {
      "cell_type": "code",
      "source": [],
      "metadata": {
        "id": "BcM5EySL1SGN"
      },
      "execution_count": null,
      "outputs": []
    },
    {
      "cell_type": "markdown",
      "source": [
        "# Achar o valor mínimo da função Booth!"
      ],
      "metadata": {
        "id": "Yf948dTtVn2n"
      }
    },
    {
      "cell_type": "code",
      "source": [
        "tam_pop = 10\n",
        "dimensao = 2\n",
        "limites = [-10,10]\n"
      ],
      "metadata": {
        "id": "GrplWv8iVDom"
      },
      "execution_count": null,
      "outputs": []
    },
    {
      "cell_type": "code",
      "source": [
        "import numpy as  np\n",
        "populacao = np.random.uniform(low=limites[0], high=limites[1], size=(tam_pop,dimensao))"
      ],
      "metadata": {
        "id": "UjsLVrxFWkz0"
      },
      "execution_count": null,
      "outputs": []
    },
    {
      "cell_type": "code",
      "source": [
        "populacao"
      ],
      "metadata": {
        "colab": {
          "base_uri": "https://localhost:8080/"
        },
        "id": "zGwW7RVW3hB4",
        "outputId": "22785124-fc09-446c-8b89-cc6e9fd1634d"
      },
      "execution_count": null,
      "outputs": [
        {
          "output_type": "execute_result",
          "data": {
            "text/plain": [
              "array([[-3.77934648,  4.88875016],\n",
              "       [-7.76791816, -7.02214197],\n",
              "       [-2.82081722,  0.02924188],\n",
              "       [-5.70260113, -7.04415068],\n",
              "       [ 3.33267612, -2.20058085],\n",
              "       [ 2.03888352, -4.74994158],\n",
              "       [-8.7461574 ,  8.3844186 ],\n",
              "       [ 1.94323239, -7.21256816],\n",
              "       [ 4.11210179,  1.04098736],\n",
              "       [ 7.25837927, -1.51817008]])"
            ]
          },
          "metadata": {},
          "execution_count": 5
        }
      ]
    },
    {
      "cell_type": "code",
      "source": [
        "populacao[0]"
      ],
      "metadata": {
        "colab": {
          "base_uri": "https://localhost:8080/"
        },
        "id": "YJBtVyIa3tDv",
        "outputId": "f0961da9-c449-4bb8-99a0-9405abf21355"
      },
      "execution_count": null,
      "outputs": [
        {
          "output_type": "execute_result",
          "data": {
            "text/plain": [
              "array([-3.77934648,  4.88875016])"
            ]
          },
          "metadata": {},
          "execution_count": 7
        }
      ]
    },
    {
      "cell_type": "code",
      "source": [
        "def pontuacao(x, y):\n",
        "  return (x + 2*y -7)**2 + (2*x + y - 5)**2"
      ],
      "metadata": {
        "id": "OMSni2NpXqpJ"
      },
      "execution_count": null,
      "outputs": []
    },
    {
      "cell_type": "code",
      "source": [
        "def calcular_pontuacao(populacao):\n",
        "  return [pontuacao(x[0],x[1]) for x in populacao ]"
      ],
      "metadata": {
        "id": "dwx11OlmYFLO"
      },
      "execution_count": null,
      "outputs": []
    },
    {
      "cell_type": "code",
      "source": [
        "p = calcular_pontuacao(populacao)\n",
        "p"
      ],
      "metadata": {
        "colab": {
          "base_uri": "https://localhost:8080/"
        },
        "id": "5mM5k5wC4Yfy",
        "outputId": "ce384329-a43d-4c7f-ac46-a45bc5e105fd"
      },
      "execution_count": null,
      "outputs": [
        {
          "output_type": "execute_result",
          "data": {
            "text/plain": [
              "[59.83171825179132,\n",
              " 1589.5851572729991,\n",
              " 207.9260302948582,\n",
              " 1267.6246081370828,\n",
              " 65.38692924323995,\n",
              " 241.29407509381355,\n",
              " 200.07860919334516,\n",
              " 448.8685789916045,\n",
              " 18.8413664418425,\n",
              " 71.69448404966279]"
            ]
          },
          "metadata": {},
          "execution_count": 11
        }
      ]
    },
    {
      "cell_type": "code",
      "source": [
        "populacao"
      ],
      "metadata": {
        "colab": {
          "base_uri": "https://localhost:8080/"
        },
        "id": "4rqRJBjE4ivr",
        "outputId": "bce7228d-9ff1-46e5-990e-2cec4c0efb25"
      },
      "execution_count": null,
      "outputs": [
        {
          "output_type": "execute_result",
          "data": {
            "text/plain": [
              "array([[-3.77934648,  4.88875016],\n",
              "       [-7.76791816, -7.02214197],\n",
              "       [-2.82081722,  0.02924188],\n",
              "       [-5.70260113, -7.04415068],\n",
              "       [ 3.33267612, -2.20058085],\n",
              "       [ 2.03888352, -4.74994158],\n",
              "       [-8.7461574 ,  8.3844186 ],\n",
              "       [ 1.94323239, -7.21256816],\n",
              "       [ 4.11210179,  1.04098736],\n",
              "       [ 7.25837927, -1.51817008]])"
            ]
          },
          "metadata": {},
          "execution_count": 12
        }
      ]
    },
    {
      "cell_type": "code",
      "source": [
        "# objetivo é criar uma lista que poporcionalmente os indivídos com menor pontuacao \n",
        "# possuem maior numero de elementos\n",
        "\n",
        "def calculo_roleta(pontuacoes):\n",
        "  roleta = []\n",
        "  total = sum(pontuacoes)\n",
        "  for i, valor in enumerate(pontuacoes):\n",
        "    repeticao = round(abs(total/(valor + 1)))\n",
        "    for r in range(repeticao):\n",
        "      roleta.append(i)\n",
        "  return roleta\n",
        "  "
      ],
      "metadata": {
        "id": "sf6tpOMYZXsv"
      },
      "execution_count": null,
      "outputs": []
    },
    {
      "cell_type": "code",
      "source": [
        "resultado = calculo_roleta(p)\n",
        "resultado"
      ],
      "metadata": {
        "id": "CVEUCeqQ744y"
      },
      "execution_count": null,
      "outputs": []
    },
    {
      "cell_type": "code",
      "source": [
        "import random\n",
        "def crossover(populacao,g1,g2):\n",
        "  return [populacao[g1][random.randint(0, 1)], populacao[g2][random.randint(0, 1)]]   \n"
      ],
      "metadata": {
        "id": "n7AXjIBFihr3"
      },
      "execution_count": null,
      "outputs": []
    },
    {
      "cell_type": "code",
      "source": [
        "import numpy as np\n",
        "import random\n",
        "\n",
        "tam_pop = 10\n",
        "dimensao = 2\n",
        "limites = [-10,10]\n",
        "mutacao = 0.1\n",
        "repeticao = 100\n",
        "\n",
        "populacao = np.random.uniform(low=limites[0], high=limites[1], size=(tam_pop,2))\n",
        "for count in range(repeticao):\n",
        "  filhos = []\n",
        "  print(\"Repetição\", count)\n",
        "  pontuacoes = calcular_pontuacao(populacao)\n",
        "  indice = pontuacoes.index(min(pontuacoes))\n",
        "  print(\"Menor valor:\", min(pontuacoes), \" Individuo:\", populacao[indice])\n",
        "  roleta = calculo_roleta(pontuacoes)\n",
        "  for tam in range(tam_pop):\n",
        "    genitor1 = random.choice(roleta)\n",
        "    genitor2 = random.choice(roleta)\n",
        "    filho = crossover(populacao, genitor1, genitor2)\n",
        "    if (random.random() < 0.1):\n",
        "      # print(\"Entrou\")\n",
        "      filho[0] = random.randint(limites[0], limites[1])\n",
        "      filho[1] = random.randint(limites[0], limites[1])\n",
        "    filhos.append(filho)\n",
        "  populacao = np.array(filhos) \n",
        "\n",
        "\n",
        "\n"
      ],
      "metadata": {
        "id": "qdIdOsHhXO5V"
      },
      "execution_count": null,
      "outputs": []
    }
  ]
}